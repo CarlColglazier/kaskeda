{
 "cells": [
  {
   "cell_type": "code",
   "execution_count": 27,
   "metadata": {},
   "outputs": [],
   "source": [
    "import json\n",
    "import bz2\n",
    "import pandas as pd"
   ]
  },
  {
   "cell_type": "code",
   "execution_count": null,
   "metadata": {},
   "outputs": [],
   "source": [
    "submissions = []\n",
    "with open(\"./data/RS_2018-02-01\") as f:\n",
    "    for line in f:\n",
    "        submissions.append(json.loads(line))"
   ]
  },
  {
   "cell_type": "code",
   "execution_count": null,
   "metadata": {},
   "outputs": [],
   "source": [
    "len(submissions)"
   ]
  },
  {
   "cell_type": "code",
   "execution_count": null,
   "metadata": {},
   "outputs": [],
   "source": [
    "submissions[100]"
   ]
  },
  {
   "cell_type": "code",
   "execution_count": null,
   "metadata": {},
   "outputs": [],
   "source": [
    "len([x for x in submissions if x[\"domain\"] == 'rt.com'])"
   ]
  },
  {
   "cell_type": "code",
   "execution_count": 36,
   "metadata": {},
   "outputs": [],
   "source": [
    "def open_submissions(file):\n",
    "    submissions = []\n",
    "    i = 0\n",
    "    rt = 0\n",
    "    # This is over eight million lines!\n",
    "    with bz2.open(file) as f:\n",
    "        for line in f:\n",
    "            if 'domain\":\"rt.com' in str(line):\n",
    "                submissions.append(line)\n",
    "    return submissions"
   ]
  },
  {
   "cell_type": "code",
   "execution_count": 37,
   "metadata": {},
   "outputs": [
    {
     "name": "stdout",
     "output_type": "stream",
     "text": [
      "CPU times: user 9min 12s, sys: 929 ms, total: 9min 13s\n",
      "Wall time: 9min 16s\n"
     ]
    }
   ],
   "source": [
    "%time subs = open_submissions(\"./data/RS_2016-10.bz2\")"
   ]
  },
  {
   "cell_type": "code",
   "execution_count": 33,
   "metadata": {},
   "outputs": [
    {
     "data": {
      "text/plain": [
       "b'{\"retrieved_on\":1480187874,\"ups\":0,\"is_self\":false,\"author_flair_css_class\":null,\"saved\":false,\"score\":0,\"title\":\"Joint war games are over, Phillipines\\' Pres Duterte tells US citing China concerns.\",\"url\":\"https://www.rt.com/news/360999-war-games-duterte-usa/\",\"link_flair_text\":null,\"edited\":false,\"contest_mode\":false,\"num_comments\":0,\"secure_media\":null,\"thumbnail\":\"http://a.thumbs.redditmedia.com/U_aeDWXhrq0CcadMIZB4Mj32K6yE3j4dcpalw-VYoh8.jpg\",\"domain\":\"rt.com\",\"permalink\":\"/r/AnythingGoesNews/comments/55aw5l/joint_war_games_are_over_phillipines_pres_duterte/\",\"spoiler\":false,\"over_18\":false,\"archived\":false,\"secure_media_embed\":{},\"author_flair_text\":null,\"locked\":false,\"post_hint\":\"link\",\"subreddit\":\"AnythingGoesNews\",\"name\":\"t3_55aw5l\",\"author\":\"PostNationalism\",\"created_utc\":1475280982,\"media\":null,\"link_flair_css_class\":null,\"selftext\":\"\",\"quarantine\":false,\"id\":\"55aw5l\",\"distinguished\":null,\"subreddit_id\":\"t5_2t3u0\",\"media_embed\":{},\"preview\":{\"images\":[{\"resolutions\":[{\"height\":60,\"url\":\"https://i.redditmedia.com/MOXBJEGkTveDNEXcHRmL_WL5oLbyv0XCjTnezRQYc-I.jpg?fit=crop&amp;crop=faces%2Centropy&amp;arh=2&amp;w=108&amp;s=e4134d42f72a1507cbe5ccb56b0f8cb2\",\"width\":108},{\"width\":216,\"url\":\"https://i.redditmedia.com/MOXBJEGkTveDNEXcHRmL_WL5oLbyv0XCjTnezRQYc-I.jpg?fit=crop&amp;crop=faces%2Centropy&amp;arh=2&amp;w=216&amp;s=9393aae9bbd1f7392815f66539bddeb1\",\"height\":121},{\"height\":179,\"url\":\"https://i.redditmedia.com/MOXBJEGkTveDNEXcHRmL_WL5oLbyv0XCjTnezRQYc-I.jpg?fit=crop&amp;crop=faces%2Centropy&amp;arh=2&amp;w=320&amp;s=1d904a6f82df6bdca89f47e6c23d7a5e\",\"width\":320},{\"width\":640,\"url\":\"https://i.redditmedia.com/MOXBJEGkTveDNEXcHRmL_WL5oLbyv0XCjTnezRQYc-I.jpg?fit=crop&amp;crop=faces%2Centropy&amp;arh=2&amp;w=640&amp;s=cc95f20a44dcdaf90ddf1f346232e395\",\"height\":359}],\"variants\":{},\"source\":{\"width\":790,\"url\":\"https://i.redditmedia.com/MOXBJEGkTveDNEXcHRmL_WL5oLbyv0XCjTnezRQYc-I.jpg?s=d3a64a1f18595a164793a8d48e9da301\",\"height\":444},\"id\":\"ThVJHwrWbV_bsG8w3TUa3i5OLD8roq8UCghx315MD4I\"}]},\"downs\":0,\"gilded\":0,\"hide_score\":false,\"stickied\":false}\\n'"
      ]
     },
     "execution_count": 33,
     "metadata": {},
     "output_type": "execute_result"
    }
   ],
   "source": [
    "subs[0]"
   ]
  },
  {
   "cell_type": "code",
   "execution_count": 41,
   "metadata": {},
   "outputs": [
    {
     "data": {
      "text/plain": [
       "The_Donald              354\n",
       "worldnews               344\n",
       "conspiracy              201\n",
       "worldtoday              132\n",
       "news                    124\n",
       "PoliticsAll             120\n",
       "politics                114\n",
       "worldpolitics            87\n",
       "syriancivilwar           72\n",
       "uncensorednews           64\n",
       "The_Europe               55\n",
       "HillaryForPrison         36\n",
       "DeepMoleWire             35\n",
       "russia                   32\n",
       "nottheonion              32\n",
       "WayOfTheBern             31\n",
       "unfilter                 26\n",
       "POLITIC                  20\n",
       "WesternTerrorism         19\n",
       "The_Farage               18\n",
       "europe                   18\n",
       "Kossacks_for_Sanders     17\n",
       "metacanada               17\n",
       "EndlessWar               16\n",
       "AnythingGoesNews         16\n",
       "WikiLeaks                15\n",
       "Le_Pen                   15\n",
       "altright                 14\n",
       "NewRussia                12\n",
       "EuropeanPeoples          12\n",
       "                       ... \n",
       "Buddhism                  1\n",
       "SteveQuayleNews           1\n",
       "StallmanWasRight          1\n",
       "comicbooks                1\n",
       "aznidentity               1\n",
       "News_For_Women            1\n",
       "AppleMotors               1\n",
       "afghanistan               1\n",
       "Future_World              1\n",
       "MMA                       1\n",
       "OrthodoxChristianity      1\n",
       "Journalism                1\n",
       "leftwinger                1\n",
       "canadafree                1\n",
       "newzealand                1\n",
       "geek                      1\n",
       "donaldtrump               1\n",
       "pettybickering            1\n",
       "Berniecrats               1\n",
       "ireland                   1\n",
       "aerospace                 1\n",
       "aviation                  1\n",
       "thedonald                 1\n",
       "police                    1\n",
       "creepy                    1\n",
       "Turkey                    1\n",
       "Feminism                  1\n",
       "TodaysNews                1\n",
       "RobotWatch                1\n",
       "propaganda                1\n",
       "Name: subreddit, Length: 352, dtype: int64"
      ]
     },
     "execution_count": 41,
     "metadata": {},
     "output_type": "execute_result"
    }
   ],
   "source": [
    "pd.DataFrame([json.loads(x) for x in subs])['subreddit'].value_counts()"
   ]
  }
 ],
 "metadata": {
  "kernelspec": {
   "display_name": "Python 3",
   "language": "python",
   "name": "python3"
  },
  "language_info": {
   "codemirror_mode": {
    "name": "ipython",
    "version": 3
   },
   "file_extension": ".py",
   "mimetype": "text/x-python",
   "name": "python",
   "nbconvert_exporter": "python",
   "pygments_lexer": "ipython3",
   "version": "3.6.4"
  }
 },
 "nbformat": 4,
 "nbformat_minor": 2
}
