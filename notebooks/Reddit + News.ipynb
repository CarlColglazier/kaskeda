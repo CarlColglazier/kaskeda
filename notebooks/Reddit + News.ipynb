{
 "cells": [
  {
   "cell_type": "markdown",
   "metadata": {},
   "source": [
    "# Russia Today"
   ]
  },
  {
   "cell_type": "code",
   "execution_count": null,
   "metadata": {},
   "outputs": [],
   "source": [
    "from secret import *\n",
    "from psaw import PushshiftAPI\n",
    "import praw\n",
    "import datetime as dt\n",
    "import pandas as pd"
   ]
  },
  {
   "cell_type": "code",
   "execution_count": null,
   "metadata": {},
   "outputs": [],
   "source": [
    "domains = ['rt.com']"
   ]
  },
  {
   "cell_type": "code",
   "execution_count": null,
   "metadata": {},
   "outputs": [],
   "source": [
    "ignore = ['AutoNewspaper', 'RTauto', 'TheNewsFeed', 'AlJazeera', 'ALJAZEERAauto', 'nytimes', 'NYTauto', 'EconNews']"
   ]
  },
  {
   "cell_type": "code",
   "execution_count": null,
   "metadata": {},
   "outputs": [],
   "source": [
    "reddit = praw.Reddit(client_id=REDDIT_CLIENT_ID, client_secret=REDDIT_CLIENT_SECRET,\n",
    "                     password=REDDIT_PASSWORD, user_agent=REDDIT_USER_AGENT,\n",
    "                     username=REDDIT_USERNAME)"
   ]
  },
  {
   "cell_type": "code",
   "execution_count": null,
   "metadata": {},
   "outputs": [],
   "source": [
    "api = PushshiftAPI()"
   ]
  },
  {
   "cell_type": "code",
   "execution_count": null,
   "metadata": {},
   "outputs": [],
   "source": [
    "#list(reddit.subreddits.popular())"
   ]
  },
  {
   "cell_type": "code",
   "execution_count": null,
   "metadata": {},
   "outputs": [],
   "source": [
    "sepoch=int(dt.datetime(2018, 6, 1).timestamp())\n",
    "eepoch=int(dt.datetime(2018, 7, 1).timestamp())\n",
    "\n",
    "rt_submissions = list(api.search_submissions(\n",
    "    after=sepoch,\n",
    "    before=eepoch,\n",
    "    domain=domains,\n",
    "    filter=['url','author', 'title', 'subreddit'],\n",
    "    limit=100000,\n",
    "    #subreddit='-AutoNewspaper,-RTauto,-thenewsfeed'\n",
    "))\n",
    "len(rt_submissions)"
   ]
  },
  {
   "cell_type": "code",
   "execution_count": null,
   "metadata": {},
   "outputs": [],
   "source": [
    "pd.DataFrame([x.d_ for x in rt_submissions if x.subreddit not in ignore]).groupby(\"subreddit\")[\"url\"].count().sort_values(ascending=False)"
   ]
  },
  {
   "cell_type": "code",
   "execution_count": null,
   "metadata": {},
   "outputs": [],
   "source": [
    "# aljazeera.com"
   ]
  },
  {
   "cell_type": "code",
   "execution_count": null,
   "metadata": {},
   "outputs": [],
   "source": [
    "epoch=int(dt.datetime(2018, 7, 1).timestamp())\n",
    "aj_submissions = list(api.search_submissions(\n",
    "    after=epoch,\n",
    "    domain='aljazeera.com',\n",
    "    filter=['url','author', 'title', 'subreddit', 'id'],\n",
    "    limit=2500\n",
    "    #subreddit='-AutoNewspaper,-RTauto,-thenewsfeed'\n",
    "))\n",
    "len(aj_submissions)"
   ]
  },
  {
   "cell_type": "code",
   "execution_count": null,
   "metadata": {},
   "outputs": [],
   "source": [
    "pd.DataFrame([x.d_ for x in aj_submissions if x.subreddit not in ignore])"
   ]
  },
  {
   "cell_type": "code",
   "execution_count": null,
   "metadata": {},
   "outputs": [],
   "source": [
    "pd.DataFrame([x.d_ for x in aj_submissions if x.subreddit not in ignore]).groupby(\"subreddit\")[\"url\"].count().sort_values(ascending=False)"
   ]
  },
  {
   "cell_type": "code",
   "execution_count": null,
   "metadata": {},
   "outputs": [],
   "source": [
    "# the economist\n",
    "te_submissions = list(api.search_submissions(\n",
    "    after=sepoch,\n",
    "    before=eepoch,\n",
    "    domain='economist.com',\n",
    "    filter=['url','author', 'title', 'subreddit'],\n",
    "    limit=100000\n",
    "    #subreddit='-AutoNewspaper,-RTauto,-thenewsfeed'\n",
    "))\n",
    "len(te_submissions)"
   ]
  },
  {
   "cell_type": "code",
   "execution_count": null,
   "metadata": {},
   "outputs": [],
   "source": [
    "pd.DataFrame([x.d_ for x in te_submissions if x.subreddit not in ignore]).groupby(\"subreddit\")[\"url\"].count().sort_values(ascending=False)"
   ]
  }
 ],
 "metadata": {
  "kernelspec": {
   "display_name": "Python 3",
   "language": "python",
   "name": "python3"
  },
  "language_info": {
   "codemirror_mode": {
    "name": "ipython",
    "version": 3
   },
   "file_extension": ".py",
   "mimetype": "text/x-python",
   "name": "python",
   "nbconvert_exporter": "python",
   "pygments_lexer": "ipython3",
   "version": "3.6.4"
  }
 },
 "nbformat": 4,
 "nbformat_minor": 2
}
